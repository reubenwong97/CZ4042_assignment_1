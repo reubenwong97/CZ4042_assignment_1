{
 "cells": [
  {
   "cell_type": "code",
   "execution_count": 3,
   "metadata": {},
   "outputs": [],
   "source": [
    "# imports\n",
    "import tensorflow as tf\n",
    "import seaborn as sns\n",
    "from tensorflow import keras\n",
    "from sklearn.model_selection import KFold, train_test_split\n",
    "import numpy as np\n",
    "import matplotlib.pyplot as plt"
   ]
  },
  {
   "cell_type": "code",
   "execution_count": 44,
   "metadata": {},
   "outputs": [],
   "source": [
    "def scale(X, X_min, X_max):\n",
    "    return (X - X_min)/(X_max-X_min)"
   ]
  },
  {
   "cell_type": "code",
   "execution_count": 45,
   "metadata": {},
   "outputs": [],
   "source": [
    "NUM_CLASSES = 3\n",
    "\n",
    "epochs = 1000\n",
    "batch_size = 32\n",
    "num_neurons = 10\n",
    "seed = 10\n",
    "\n",
    "np.random.seed(seed)\n",
    "tf.random.set_seed(seed)\n",
    "\n",
    "histories = {}"
   ]
  },
  {
   "cell_type": "code",
   "execution_count": 46,
   "metadata": {},
   "outputs": [],
   "source": [
    "#read train data\n",
    "data = np.genfromtxt('ctg_data_cleaned.csv', delimiter= ',')\n",
    "data_X, data_Y = data[1:, :21], data[1:,-1].astype(int)\n",
    "# scaling now leads to leakage into test data\n",
    "# data_X = scale(data_X, np.min(data_X, axis=0), np.max(data_X, axis=0))\n",
    "# transform 1,2,3 -> 0,1,2\n",
    "data_Y = data_Y-1"
   ]
  },
  {
   "cell_type": "code",
   "execution_count": 47,
   "metadata": {},
   "outputs": [
    {
     "data": {
      "text/plain": [
       "(2126, 21)"
      ]
     },
     "execution_count": 47,
     "metadata": {},
     "output_type": "execute_result"
    }
   ],
   "source": [
    "data_X.shape"
   ]
  },
  {
   "cell_type": "code",
   "execution_count": 48,
   "metadata": {},
   "outputs": [],
   "source": [
    "### Perform train and test split -> train to be used for 5-fold CV\n",
    "X_train, X_test, y_train, y_test = train_test_split(data_X, data_Y, test_size=0.3, random_state=42)\n",
    "X_test = scale(X_test, np.min(X_test, axis=0), np.max(X_train, axis=0))"
   ]
  },
  {
   "cell_type": "code",
   "execution_count": 51,
   "metadata": {},
   "outputs": [
    {
     "name": "stdout",
     "output_type": "stream",
     "text": [
      "(298, 21)\n",
      "(298, 21)\n",
      "(298, 21)\n",
      "(297, 21)\n",
      "(297, 21)\n"
     ]
    },
    {
     "name": "stderr",
     "output_type": "stream",
     "text": [
      "C:\\Users\\Reuben\\anaconda3\\envs\\tf2.1\\lib\\site-packages\\ipykernel_launcher.py:2: RuntimeWarning: invalid value encountered in true_divide\n",
      "  \n"
     ]
    }
   ],
   "source": [
    "# perform splitting\n",
    "kf = KFold(n_splits=5, random_state=42, shuffle=False)\n",
    "kf.get_n_splits(X_train)\n",
    "\n",
    "for train_idx, val_idx in kf.split(X_train):\n",
    "    # X_train_ for model to be trained on and X_val to be evaluated on\n",
    "    X_train_, X_val = X_train[train_idx], X_train[val_idx]\n",
    "    y_train_, y_val = y_train[train_idx], y_train[val_idx]\n",
    "\n",
    "    # normalise train and val seperately here\n",
    "    X_train_ = scale(X_train_, np.min(X_train_, axis=0), np.max(X_train_, axis=0))\n",
    "    X_val = scale(X_val, np.min(X_val, axis=0), np.max(X_val, axis=0))"
   ]
  },
  {
   "cell_type": "code",
   "execution_count": null,
   "metadata": {},
   "outputs": [],
   "source": []
  }
 ],
 "metadata": {
  "kernelspec": {
   "display_name": "Python 3",
   "language": "python",
   "name": "python3"
  },
  "language_info": {
   "codemirror_mode": {
    "name": "ipython",
    "version": 3
   },
   "file_extension": ".py",
   "mimetype": "text/x-python",
   "name": "python",
   "nbconvert_exporter": "python",
   "pygments_lexer": "ipython3",
   "version": "3.7.7"
  }
 },
 "nbformat": 4,
 "nbformat_minor": 4
}
